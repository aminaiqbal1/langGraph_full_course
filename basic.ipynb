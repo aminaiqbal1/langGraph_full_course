{
 "cells": [
  {
   "cell_type": "code",
   "execution_count": null,
   "id": "c5735ff5",
   "metadata": {},
   "outputs": [],
   "source": [
    "# langchain or langgraph ka pass apna chat model ni hai s lia hum na frist of all hum chat ka lia google llm ko use kryn ga s ka lia hum chatgpt and  etropy etc\n",
    "from langchain_google_genai import ChatGoogleGenerativeAI\n",
    "import os\n",
    "from dotenv import load_dotenv\n",
    "load_dotenv()\n",
    "GEMINI_API_KEY = os.getenv('GEMINI_API_KEY')\n",
    "llm = ChatGoogleGenerativeAI(\n",
    "    model=\"gemini-2.0-flash\",\n",
    "    api_key=GEMINI_API_KEY,\n",
    "    temperature=0\n",
    ")\n",
    "result  = llm.invoke(\"What is open AI SDK?\")\n",
    "print(result)"
   ]
  },
  {
   "cell_type": "code",
   "execution_count": null,
   "id": "6f27de3e",
   "metadata": {},
   "outputs": [],
   "source": [
    "from langchain_core.messages import HumanMessage, AIMessage\n",
    "llm = ChatGoogleGenerativeAI(\n",
    "    model=\"gemini-2.0-flash\",\n",
    "    api_key=GEMINI_API_KEY,\n",
    "    temperature=0\n",
    ")\n",
    "msg = [HumanMessage(content = 'hi' , name =\"amina\"), \n",
    "    AIMessage(content = 'hi amina how are you', name = \"gemini\"),\n",
    "    HumanMessage(content = 'i am fine', name = \"amina\"),\n",
    "    AIMessage(content = 'what is python', name = \"gemini\")\n",
    "]\n",
    "massages = [msg]\n",
    "# llm = llm.bind_messages(massages)\n",
    "result  = llm.invoke(\"what is python?\")\n",
    "print(result)"
   ]
  },
  {
   "cell_type": "code",
   "execution_count": 23,
   "id": "b67285c5",
   "metadata": {},
   "outputs": [],
   "source": [
    "\n",
    "import os\n",
    "from dotenv import load_dotenv\n",
    "\n",
    "load_dotenv()\n",
    "Tavily_Api_Key = os.getenv('Tavily_Api_Key')"
   ]
  },
  {
   "cell_type": "code",
   "execution_count": 24,
   "id": "11f14710",
   "metadata": {},
   "outputs": [],
   "source": [
    "from langchain_tavily import TavilySearch\n",
    "\n",
    "tool = TavilySearch(\n",
    "    max_results=5,\n",
    "    topic=\"general\"\n",
    ")"
   ]
  },
  {
   "cell_type": "code",
   "execution_count": 26,
   "id": "bd6c716d",
   "metadata": {},
   "outputs": [
    {
     "data": {
      "text/plain": [
       "{'query': 'What is openai SDK?',\n",
       " 'follow_up_questions': None,\n",
       " 'answer': None,\n",
       " 'images': [],\n",
       " 'results': [{'url': 'https://getstream.io/blog/openai-agents-sdk/',\n",
       "   'title': 'OpenAI Agents SDK — Getting Started - GetStream.io',\n",
       "   'content': 'The latest open-source SDK provides developers a robust toolkit for building and deploying AI agents. The OpenAI Agents SDK is built upon four fundamental principles that work together to create robust, reliable AI systems. These four principles work together to create a robust framework that enables developers to build sophisticated, reliable AI agent systems while maintaining control and visibility throughout the process. # Output: No, AI agents are not sentient. The first thing we define is an output type and a `guardrail_agent`: Build a SaaS AI Agent PlatformCompare the 3 Best Agentic CLI Coding ToolsBuild an AI Meeting Assistant with Stream Video and LLMsBuilding a Personalized AI Chatbot with Stream’s UI ComponentsLLM Context Protocols: Agent2Agent vs.',\n",
       "   'score': 0.81875163,\n",
       "   'raw_content': None},\n",
       "  {'url': 'https://www.youtube.com/watch?v=35nxORG1mtg',\n",
       "   'title': 'Agents SDK from OpenAI! | Full Tutorial - YouTube',\n",
       "   'content': 'OpenAI have released an Agents SDK, their version of an open source agent development library akin to LangChain, Llama-Index, Pydantic AI,',\n",
       "   'score': 0.7927375,\n",
       "   'raw_content': None},\n",
       "  {'url': 'https://openai.github.io/openai-agents-python/',\n",
       "   'title': 'OpenAI Agents SDK',\n",
       "   'content': 'OpenAI Agents SDK OpenAI Agents SDK  openai-agents-python Image 2: logo OpenAI Agents SDK   openai-agents-python *   Why use the Agents SDK *   Agents *   Running agents *   Agent Visualization *   - [x]  Voice agents   Voice agents   *   - [x]  Agents   Agents   *   Agents module *   Agents *   Agent output *   Why use the Agents SDK OpenAI Agents SDK The OpenAI Agents SDK enables you to build agentic AI apps in a lightweight, easy-to-use package with very few abstractions. The Agents SDK has a very small set of primitives: In addition, the SDK comes with built-in **tracing** that lets you visualize and debug your agentic flows, as well as evaluate them and even fine-tune models for your application. Why use the Agents SDK pip install openai-agents',\n",
       "   'score': 0.7434107,\n",
       "   'raw_content': None},\n",
       "  {'url': 'https://platform.openai.com/docs/libraries',\n",
       "   'title': 'Docs: OpenAI Python Library',\n",
       "   'content': \"Explore resources, tutorials, API docs, and dynamic examples to get the most out of OpenAI's developer platform.\",\n",
       "   'score': 0.29969972,\n",
       "   'raw_content': None},\n",
       "  {'url': 'https://openai.com/api/',\n",
       "   'title': 'API Platform - OpenAI',\n",
       "   'content': '*   API Platform(opens in a new window) *   API Log in(opens in a new window)  *   API Log in(opens in a new window) Start building(opens in a new window)View API pricing ### Access the power of our models with APIs Image 2: API > Section > Extend model capabilities with built-in tools > two up (Web search) > media item > asset Image 3: API > Section > Extend model capabilities with built-in tools > two up (File search) > media item > asset PLACEHOLDER Image 4: API > Section > Extend model capabilities with built-in tools > two up (Computer use) > media item > asset PLACEHOLDER *   API log in(opens in a new window)',\n",
       "   'score': 0.20472358,\n",
       "   'raw_content': None}],\n",
       " 'response_time': 1.44}"
      ]
     },
     "execution_count": 26,
     "metadata": {},
     "output_type": "execute_result"
    }
   ],
   "source": [
    "tool.invoke({\"query\": \"What is openai SDK?\"})"
   ]
  },
  {
   "cell_type": "code",
   "execution_count": null,
   "id": "0c00afc2",
   "metadata": {},
   "outputs": [],
   "source": [
    "from typing_extensions import TypedDict\n",
    "class LearnningState(TypedDict):\n",
    "    prompt: str\n",
    "    output : str\n",
    "\n"
   ]
  },
  {
   "cell_type": "code",
   "execution_count": null,
   "id": "1524b3d8",
   "metadata": {},
   "outputs": [],
   "source": [
    "lahore_state = LearnningState(prompt = \" hello from itu lahore\")\n",
    "# print(lahore_state)"
   ]
  },
  {
   "cell_type": "code",
   "execution_count": null,
   "id": "bf771a3a",
   "metadata": {},
   "outputs": [
    {
     "name": "stdout",
     "output_type": "stream",
     "text": [
      "hello from itu lahore?\n",
      "hello from itu lahore?i am from lahore\n",
      "{'prompt': 'hello from itu lahore?'}\n"
     ]
    }
   ],
   "source": [
    "print(lahore_state['prompt'])\n",
    "print(lahore_state['prompt'] + \" i am from lahore\")\n",
    "print(lahore_state)"
   ]
  },
  {
   "cell_type": "code",
   "execution_count": null,
   "id": "d91aec2a",
   "metadata": {},
   "outputs": [],
   "source": [
    "def node1(state: LearnningState):\n",
    "    print(state['prompt'])\n",
    "    state['prompt'] = state['prompt'] + \" i am from lahore\"\n",
    "    return state\n",
    "def node2(state: LearnningState):\n",
    "    print(state['prompt'] + \"  i am happy\")\n",
    "    return state"
   ]
  },
  {
   "cell_type": "code",
   "execution_count": 33,
   "id": "791307f9",
   "metadata": {},
   "outputs": [],
   "source": [
    "from IPython .display import display,Image\n",
    "from langgraph.graph import START, StateGraph, END\n",
    "from langgraph.graph.state import CompiledStateGraph\n",
    "\n",
    "builder = StateGraph(state_schema= LearnningState)"
   ]
  },
  {
   "cell_type": "code",
   "execution_count": 34,
   "id": "2a666f5a",
   "metadata": {},
   "outputs": [],
   "source": [
    "add_node1 = builder.add_node(\n",
    "    \"node1\" , node1)\n",
    "add_node2 = builder.add_node(\n",
    "    \"node2\" , node2)"
   ]
  },
  {
   "cell_type": "code",
   "execution_count": 35,
   "id": "3332dbaa",
   "metadata": {},
   "outputs": [
    {
     "data": {
      "text/plain": [
       "<langgraph.graph.state.StateGraph at 0x19bfeba2900>"
      ]
     },
     "execution_count": 35,
     "metadata": {},
     "output_type": "execute_result"
    }
   ],
   "source": [
    "builder.add_edge(START, \"node1\")     \n",
    "builder.add_edge(\"node1\", \"node2\")\n",
    "builder.add_edge(\"node2\", END)  "
   ]
  },
  {
   "cell_type": "code",
   "execution_count": 36,
   "id": "1f070091",
   "metadata": {},
   "outputs": [],
   "source": [
    "graph : CompiledStateGraph = builder.compile()"
   ]
  },
  {
   "cell_type": "code",
   "execution_count": 37,
   "id": "4e5e3eef",
   "metadata": {},
   "outputs": [
    {
     "name": "stdout",
     "output_type": "stream",
     "text": [
      "<langgraph.graph.state.CompiledStateGraph object at 0x0000019B80628C20>\n"
     ]
    }
   ],
   "source": [
    "print(graph)"
   ]
  },
  {
   "cell_type": "code",
   "execution_count": 38,
   "id": "a483c02e",
   "metadata": {},
   "outputs": [
    {
     "name": "stdout",
     "output_type": "stream",
     "text": [
      "Graph(nodes={'__start__': Node(id='__start__', name='__start__', data=RunnableCallable(tags=None, recurse=True, explode_args=False, func_accepts_config=False, func_accepts={}), metadata=None), 'node1': Node(id='node1', name='node1', data=node1(tags=None, recurse=True, explode_args=False, func_accepts_config=False, func_accepts={}), metadata=None), 'node2': Node(id='node2', name='node2', data=node2(tags=None, recurse=True, explode_args=False, func_accepts_config=False, func_accepts={}), metadata=None), '__end__': Node(id='__end__', name='__end__', data=None, metadata=None)}, edges=[Edge(source='__start__', target='node1', data=None, conditional=False), Edge(source='node1', target='node2', data=None, conditional=False), Edge(source='node2', target='__end__', data=None, conditional=False)])\n"
     ]
    }
   ],
   "source": [
    "print(graph.get_graph())"
   ]
  },
  {
   "cell_type": "code",
   "execution_count": 39,
   "id": "417975c4",
   "metadata": {},
   "outputs": [
    {
     "data": {
      "image/png": "[encoded data removed]",
      "text/plain": [
       "<IPython.core.display.Image object>"
      ]
     },
     "metadata": {},
     "output_type": "display_data"
    }
   ],
   "source": [
    "display(Image(graph.get_graph().draw_mermaid_png()))"
   ]
  },
  {
   "cell_type": "code",
   "execution_count": 40,
   "id": "b49baac9",
   "metadata": {},
   "outputs": [
    {
     "name": "stdout",
     "output_type": "stream",
     "text": [
      "hello\n",
      "helloi am from lahorem happy\n"
     ]
    },
    {
     "data": {
      "text/plain": [
       "{'prompt': 'helloi am from lahore'}"
      ]
     },
     "execution_count": 40,
     "metadata": {},
     "output_type": "execute_result"
    }
   ],
   "source": [
    "graph.invoke({\"prompt\":\"hello\"})"
   ]
  },
  {
   "cell_type": "code",
   "execution_count": null,
   "id": "d9c133a0",
   "metadata": {},
   "outputs": [],
   "source": []
  }
 ],
 "metadata": {
  "kernelspec": {
   "display_name": "langgraph",
   "language": "python",
   "name": "python3"
  },
  "language_info": {
   "codemirror_mode": {
    "name": "ipython",
    "version": 3
   },
   "file_extension": ".py",
   "mimetype": "text/x-python",
   "name": "python",
   "nbconvert_exporter": "python",
   "pygments_lexer": "ipython3",
   "version": "3.13.2"
  }
 },
 "nbformat": 4,
 "nbformat_minor": 5
}
